{
 "cells": [
  {
   "cell_type": "code",
   "execution_count": 1,
   "id": "1919f28c-6489-415a-b9ae-5899e6ebf847",
   "metadata": {},
   "outputs": [
    {
     "name": "stderr",
     "output_type": "stream",
     "text": [
      "<frozen importlib._bootstrap>:241: RuntimeWarning: Your system is avx2 capable but pygame was not built with support for it. The performance of some of your blits could be adversely affected. Consider enabling compile time detection with environment variables like PYGAME_DETECT_AVX2=1 if you are compiling without cross compilation.\n"
     ]
    },
    {
     "name": "stdout",
     "output_type": "stream",
     "text": [
      "pygame 2.5.2 (SDL 2.30.2, Python 3.11.8)\n",
      "Hello from the pygame community. https://www.pygame.org/contribute.html\n"
     ]
    }
   ],
   "source": [
    "import pygame\n",
    "import random\n",
    "import json\n",
    "\n",
    "import header\n",
    "from Players import *\n",
    "from Ball import *\n",
    "from CalBall import *\n",
    "\n",
    "from BlackCollman import BlackCollman"
   ]
  },
  {
   "cell_type": "code",
   "execution_count": 2,
   "id": "3ca785c1-96f1-40f0-87d4-22dc09280e1b",
   "metadata": {},
   "outputs": [],
   "source": [
    "# Просчёт игры\n",
    "def calBall(player):\n",
    "    fakeBall = CalBall()\n",
    "    fakeBall.rect.x = ball.rect.x\n",
    "    fakeBall.rect.y = ball.rect.y\n",
    "    fakeBall.dx = ball.dx\n",
    "    fakeBall.dy = ball.dy\n",
    "    while True:\n",
    "        fakeBall.update()\n",
    "        if player.rect.centerx + 5 > fakeBall.rect.centerx > player.rect.centerx - 5:\n",
    "            break\n",
    "    return fakeBall.rect.centery"
   ]
  },
  {
   "cell_type": "code",
   "execution_count": 3,
   "id": "4c127b43-19e1-4e45-805b-2c518a89b65b",
   "metadata": {},
   "outputs": [],
   "source": [
    "# Авто-игра\n",
    "def auto_game():\n",
    "    global changeBict\n",
    "    global bict\n",
    "    # Смещение\n",
    "    if changeBict:\n",
    "        bict = random.randint(-50,50)\n",
    "        changeBict = False\n",
    "    # Если коснулась игрока, то меняется смещение\n",
    "    if ball.rect.colliderect(player1.rect) or ball.rect.colliderect(player2.rect):\n",
    "        changeBict = True\n",
    "        ball.update(player1,player2)\n",
    "\n",
    "    # Переключение левого игрока на АИ\n",
    "    if not AiGame:\n",
    "        if ball.dx < 0 and ball.rect.x > player1.rect.right:\n",
    "            player1.predictY = calBall(player1) + bict\n",
    "        if player1.predictY-10 < player1.rect.centery < player1.predictY+10:\n",
    "            player2.action = \"nothing\"\n",
    "        elif player1.rect.centery > player1.predictY:\n",
    "            player1.action = \"moveUp\"\n",
    "            player1.moveUp()\n",
    "        elif player1.rect.centery < player1.predictY:\n",
    "            player1.action = \"moveDown\"\n",
    "            player1.moveDown()\n",
    "            \n",
    "\n",
    "    if ball.dx > 0 and ball.rect.right < player2.rect.x:\n",
    "         player2.predictY = calBall(player2) + bict\n",
    "\n",
    "            \n",
    "    if player2.predictY-10 < player2.rect.centery < player2.predictY+10:\n",
    "        player2.action = \"nothing\"\n",
    "    elif player2.rect.centery > player2.predictY:\n",
    "        player2.action = \"moveUp\"\n",
    "        player2.moveUp()\n",
    "    elif player2.rect.centery < player2.predictY:\n",
    "        player2.action = \"moveDown\"\n",
    "        player2.moveDown()"
   ]
  },
  {
   "cell_type": "code",
   "execution_count": 4,
   "id": "284afd88-cd24-43a2-b0aa-c5efe6f9d444",
   "metadata": {},
   "outputs": [],
   "source": [
    "# Создание окна\n",
    "pygame.init()\n",
    "pygame.mixer.init()\n",
    "screen = pygame.display.set_mode((header.WIDTH, header.HEIGHT))\n",
    "pygame.display.set_caption(\"Blackanoid\")\n",
    "clock = pygame.time.Clock()"
   ]
  },
  {
   "cell_type": "code",
   "execution_count": 5,
   "id": "e7744230-64f5-4a9f-9d5f-845275401e31",
   "metadata": {},
   "outputs": [
    {
     "name": "stdin",
     "output_type": "stream",
     "text": [
      "Введите кол-во FPS(стандарт:60):  60\n",
      "Введите кол-во нейронов:  256\n",
      "Введите кол-во слоев:  4\n",
      "Введите скорость обучения(стандарт:0.001):  0.001\n",
      "Введите кол-во эпох(стандарт:10):  10\n",
      "Включить авто-обучение<0/1>:  0\n"
     ]
    }
   ],
   "source": [
    "# Данные от игрока\n",
    "header.FPS = int(input(\"Введите кол-во FPS(стандарт:60): \"))\n",
    "neuron = int(input(\"Введите кол-во нейронов: \"))\n",
    "slayer = int(input(\"Введите кол-во слоев: \"))\n",
    "speed_rate = float(input(\"Введите скорость обучения(стандарт:0.001): \"))\n",
    "epochs_rate = int(input(\"Введите кол-во эпох(стандарт:10): \"))\n",
    "\n",
    "auto_learn = bool(int(input(\"Включить авто-обучение<0/1>: \")))\n",
    "if auto_learn:\n",
    "    _interval_learn = int(input(\"Введите время автообучения(в минутах): \"))\n",
    "    interval_learn = 60 * _interval_learn * header.FPS\n",
    "    timer_learn = 0"
   ]
  },
  {
   "cell_type": "code",
   "execution_count": 6,
   "id": "a0e2f149-04be-4036-ae19-617eb63776ba",
   "metadata": {},
   "outputs": [
    {
     "name": "stdout",
     "output_type": "stream",
     "text": [
      "Using device: cpu\n"
     ]
    }
   ],
   "source": [
    "# Создание объектов\n",
    "player1 = Player(20, (25,255,20))\n",
    "player2 = Player(header.WIDTH-player1.rect.width, (120,45,20))\n",
    "\n",
    "ball = Ball()\n",
    "all_sprites = pygame.sprite.Group()\n",
    "all_sprites.add(player1, player2)\n",
    "\n",
    "# Создание нейросети(Входные данные, нейроны, выходные, слои)\n",
    "blackCollman = BlackCollman(7,neuron,3,slayer, learning_rate = speed_rate, epochs = epochs_rate)\n",
    "\n",
    "# Текст\n",
    "font = pygame.font.Font(None, 36)  # Вы можете указать путь к файлу шрифта и размер\n",
    "text_surface = font.render(str(player1.score), True, (0,0,0))  # Текст, сглаживание, цвет\n",
    "\n",
    "text_rect_player1 = text_surface.get_rect()\n",
    "text_rect_player2 = text_surface.get_rect()\n",
    "text_rect_player1.topleft = (50, 40) # Для Score\n",
    "text_rect_player2.topleft = (header.WIDTH-86, 40) # Для Состояния\n",
    "\n",
    "game_data = [] # Здесь хранятся данные\n",
    "\n",
    "# Инициализация смещения\n",
    "bict = random.randint(-20,20)\n",
    "changeBict = False"
   ]
  },
  {
   "cell_type": "code",
   "execution_count": 7,
   "id": "7a9f1398-54cf-4d8c-8085-fa269e475ce5",
   "metadata": {},
   "outputs": [],
   "source": [
    "pygame.mixer.music.load('Music\\MusicTobiFox.mp3')\n",
    "pygame.mixer.music.set_volume(header.volumeMusic)\n",
    "pygame.mixer.music.play(-1)"
   ]
  },
  {
   "cell_type": "code",
   "execution_count": 8,
   "id": "7d6faf8f-fbe2-41c4-9d01-26ac9c7f5dc7",
   "metadata": {},
   "outputs": [],
   "source": [
    "running = True # Работает ли игра\n",
    "AiGame = False # Играет ли нейросеть\n",
    "auto_gaming = True\n",
    "\n",
    "while running:\n",
    "    # Держим цикл на правильной скорости\n",
    "    clock.tick(header.FPS)\n",
    "\n",
    "    # Обновления\n",
    "    ball.update(player1,player2)\n",
    "\n",
    "    if auto_gaming:\n",
    "        auto_game()\n",
    "\n",
    "    if auto_learn:\n",
    "        if timer_learn >= interval_learn:\n",
    "            with open('game_data.json', 'w') as json_file:\n",
    "                json.dump(game_data, json_file)\n",
    "            blackCollman.load_data()\n",
    "            blackCollman.train()\n",
    "            AiGame = True\n",
    "            auto_learn = 0\n",
    "        else:\n",
    "            timer_learn += 1\n",
    "            \n",
    "        \n",
    "\n",
    "    # Сохраненние данных\n",
    "    action_to_label = {\"moveUp\": 0, \"moveDown\": 1, \"nothing\": 2}\n",
    "    action_label = action_to_label[player1.action]\n",
    "    game_data.append({\n",
    "        \"ball_x\": ball.rect.x,\n",
    "        \"ball_y\": ball.rect.y,\n",
    "        \"ball_dx\": ball.dx,\n",
    "        \"ball_dy\": ball.dy,\n",
    "        \"player_y\": player1.rect.y,\n",
    "        \"screen_width\": header.WIDTH,\n",
    "        \"screen_height\": header.HEIGHT,\n",
    "        \"action\": action_label  \n",
    "    })\n",
    "\n",
    "    # Играет ли ИИ\n",
    "    if AiGame and ball.dx < 0:\n",
    "        gather_data = blackCollman.gather_game_data(ball.rect.x, ball.rect.y, ball.dx, ball.dy, player1.rect.y, header.WIDTH, header.HEIGHT)\n",
    "        predict = blackCollman.predict_action(gather_data)\n",
    "        if predict == 0 and player1.rect.top > 0:\n",
    "            player1.moveUp()\n",
    "            player1.action = \"moveUp\"\n",
    "        if predict == 1.0 and player1.rect.bottom < header.HEIGHT:\n",
    "            player1.moveDown()\n",
    "            player1.action = \"moveDown\"\n",
    "        else:\n",
    "            player1.action = \"nothing\"\n",
    "\n",
    "    \n",
    "    # Разовые нажатия\n",
    "    for event in pygame.event.get():\n",
    "        if event.type == pygame.QUIT:\n",
    "            running = False\n",
    "        elif event.type == pygame.KEYUP:\n",
    "            if event.key == pygame.K_s:\n",
    "                with open('game_data.json', 'w') as json_file:\n",
    "                    json.dump(game_data, json_file)\n",
    "            if event.key == pygame.K_q:\n",
    "                blackCollman.load_data()\n",
    "                blackCollman.train()\n",
    "            if event.key == pygame.K_z:\n",
    "                blackCollman.save_train()\n",
    "            if event.key == pygame.K_x:\n",
    "                blackCollman.load_train()\n",
    "            if event.key == pygame.K_f:\n",
    "                AiGame = not AiGame\n",
    "            if event.key == pygame.K_i:\n",
    "                auto_gaming = not auto_gaming\n",
    "\n",
    "    # Проверка нажатия клавиш    \n",
    "    keys = pygame.key.get_pressed()\n",
    "    if keys[pygame.K_w] and player1.rect.top > 0:\n",
    "        player1.moveUp()\n",
    "    if keys[pygame.K_s] and player1.rect.bottom < header.HEIGHT:\n",
    "        player1.moveDown()\n",
    "    if keys[pygame.K_UP] and player2.rect.top > 0:\n",
    "        player2.moveUp()\n",
    "    if keys[pygame.K_DOWN] and player2.rect.bottom < header.HEIGHT:\n",
    "        player2.moveDown()\n",
    "\n",
    "\n",
    "    # Рендеринг\n",
    "    screen.fill((0,0,0))\n",
    "    all_sprites.draw(screen)\n",
    "    screen.blit(ball.image,ball.rect)\n",
    "    \n",
    "    text_surface = font.render(str(player1.score), True, (255,255,255))  # Текст, сглаживание, цвет\n",
    "    screen.blit(text_surface, text_rect_player1)\n",
    "    text_surface = font.render(str(player2.score), True, (255,255,255))  # Текст, сглаживание, цвет\n",
    "    screen.blit(text_surface, text_rect_player2)\n",
    "    \n",
    "    pygame.display.flip()\n",
    "\n",
    "pygame.quit()\n"
   ]
  },
  {
   "cell_type": "code",
   "execution_count": 9,
   "id": "ce20bf9c-239e-4755-bf31-ca067a0ba79f",
   "metadata": {},
   "outputs": [],
   "source": [
    "###### "
   ]
  }
 ],
 "metadata": {
  "kernelspec": {
   "display_name": "Python 3 (ipykernel)",
   "language": "python",
   "name": "python3"
  },
  "language_info": {
   "codemirror_mode": {
    "name": "ipython",
    "version": 3
   },
   "file_extension": ".py",
   "mimetype": "text/x-python",
   "name": "python",
   "nbconvert_exporter": "python",
   "pygments_lexer": "ipython3",
   "version": "3.11.8"
  }
 },
 "nbformat": 4,
 "nbformat_minor": 5
}
